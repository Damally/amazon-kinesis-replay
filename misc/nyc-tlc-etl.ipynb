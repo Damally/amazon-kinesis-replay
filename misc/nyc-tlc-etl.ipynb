{
    "cells": [
        {
            "cell_type": "code",
            "execution_count": null,
            "metadata": {
                "trusted": true
            },
            "outputs": [],
            "source": "val df = {\n    spark\n    .read\n    .schema(\"vendor_id string, pickup_datetime timestamp, dropoff_datetime timestamp, passenger_count integer, trip_distance double, pickup_lon double, pickup_lat double, rate_code integer, store_and_fwd_flag string, dropoff_lon double, dropoff_lat double, payment_type string, fare_amount double, surcharge double, mta_tax double, tip_amount double, tolls_amount double, total_amount double\")\n    .format(\"csv\")\n    .option(\"header\", \"true\")\n    .option(\"mode\", \"DROPMALFORMED\")\n    .load(\"s3://nyc-tlc/trip data/yellow_tripdata_201[0-4]-*.csv\")\n}"
        },
        {
            "cell_type": "code",
            "execution_count": null,
            "metadata": {
                "trusted": true
            },
            "outputs": [],
            "source": "val cleaned = { \n    df\n    .filter($\"pickup_datetime\" >= \"2010-01-01T00:00:00.000Z\")\n    .filter($\"dropoff_datetime\" < \"2015-01-01T00:00:00.000Z\")\n    .orderBy(\"dropoff_datetime\")\n    .withColumn(\"trip_id\", monotonically_increasing_id())\n    .withColumn(\"type\", lit(\"trip\"))\n}"
        },
        {
            "cell_type": "code",
            "execution_count": null,
            "metadata": {
                "trusted": true
            },
            "outputs": [],
            "source": "cleaned.printSchema"
        },
        {
            "cell_type": "code",
            "execution_count": null,
            "metadata": {
                "trusted": true
            },
            "outputs": [],
            "source": "cleaned.write.json(\"s3://shausma-nyc-tlc/trip-data-raw/taxi-trips.json/\")"
        },
        {
            "cell_type": "code",
            "execution_count": null,
            "metadata": {
                "trusted": true
            },
            "outputs": [],
            "source": "cleaned.write.option(\"compression\", \"snappy\").json(\"s3://shausma-nyc-tlc/trip-data-raw/taxi-trips.json.snappy/\")"
        },
        {
            "cell_type": "code",
            "execution_count": null,
            "metadata": {
                "trusted": true
            },
            "outputs": [],
            "source": "cleaned.write.option(\"compression\", \"gzip\").json(\"s3://shausma-nyc-tlc/trip-data-raw/taxi-trips.json.gz/\")"
        },
        {
            "cell_type": "code",
            "execution_count": null,
            "metadata": {
                "trusted": true
            },
            "outputs": [],
            "source": "cleaned.write.option(\"compression\", \"lz4\").json(\"s3://shausma-nyc-tlc/trip-data-raw/taxi-trips.json.lz4/\")"
        },
        {
            "cell_type": "code",
            "execution_count": null,
            "metadata": {
                "trusted": true
            },
            "outputs": [],
            "source": "cleaned.write.parquet(\"s3://shausma-nyc-tlc/trip-data-raw/taxi-trips.parquet/\")"
        },
        {
            "cell_type": "code",
            "execution_count": null,
            "metadata": {
                "trusted": true
            },
            "outputs": [],
            "source": "cleaned.write.orc(\"s3://shausma-nyc-tlc/trip-data-raw/taxi-trips.orc/\")"
        }
    ],
    "metadata": {
        "kernelspec": {
            "display_name": "Spark",
            "language": "",
            "name": "sparkkernel"
        },
        "language_info": {
            "codemirror_mode": "text/x-scala",
            "mimetype": "text/x-scala",
            "name": "scala",
            "pygments_lexer": "scala"
        }
    },
    "nbformat": 4,
    "nbformat_minor": 2
}
